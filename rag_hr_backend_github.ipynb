{
 "cells": [
  {
   "cell_type": "markdown",
   "metadata": {},
   "source": [
    "# Import Libraries"
   ]
  },
  {
   "cell_type": "code",
   "execution_count": 60,
   "metadata": {},
   "outputs": [],
   "source": [
    "import os\n",
    "import pandas as pd\n",
    "from langchain.document_loaders import PyPDFLoader\n",
    "from langchain.text_splitter import RecursiveCharacterTextSplitter\n",
    "from langchain.embeddings import BedrockEmbeddings\n",
    "from langchain.vectorstores import FAISS\n",
    "from langchain.indexes import VectorstoreIndexCreator\n",
    "import pinecone\n",
    "from langchain.vectorstores import Pinecone\n",
    "from pinecone.index import Index\n",
    "from langchain.llms.bedrock import Bedrock\n",
    "from langchain.prompts import PromptTemplate\n",
    "from langchain.chains import RetrievalQAWithSourcesChain\n",
    "from langchain.chat_models import ChatOpenAI\n",
    "from langchain.document_loaders import DataFrameLoader\n",
    "from langchain.embeddings.openai import OpenAIEmbeddings\n"
   ]
  },
  {
   "cell_type": "markdown",
   "metadata": {},
   "source": [
    "# Setup needed with following steps: \n",
    "1. Document Loading and Chunking \n",
    "2. Pinecone initiation for index creation\n",
    "3. Chunk embeddings \n",
    "4. Upload to Pinecone\n"
   ]
  },
  {
   "cell_type": "code",
   "execution_count": 61,
   "metadata": {},
   "outputs": [],
   "source": [
    "# SETUP STEP 1: Load >> Chunk document\n",
    "# Data transformation and prepping. This is a publicly available data\n",
    "data_load = PyPDFLoader('https://www.upl-ltd.com/images/people/downloads/Leave-Policy-India.pdf')\n",
    "\n",
    "#data chunking -> split and cut the documents into chunks (think about it like paragraph, but based on number of characters)\n",
    "splitter = RecursiveCharacterTextSplitter(separators =['\\n\\n', '\\n', ' ', ''], chunk_size = 1000, chunk_overlap =150)\n",
    "\n",
    "data_chunks = data_load.load_and_split()\n",
    "df = pd.DataFrame({'page_content':[data_chunks[x].page_content for x in range(len(data_chunks))],\n",
    "                   'page_source': [data_chunks[x].metadata['page'] for x in range(len(data_chunks))],\n",
    "                   'document_source': [data_chunks[x].metadata['source'] for x in range(len(data_chunks))]\n",
    "                   })\n",
    "\n",
    "df['split'] = df.page_content.apply(lambda x: splitter.split_text(x))\n",
    "\n",
    "final_df = pd.DataFrame()\n",
    "for idx, row in df.iterrows():\n",
    "    page_number = row.page_source + 1\n",
    "\n",
    "    iterative_df = pd.DataFrame({'split_page':row.split})\n",
    "    iterative_df['page_number'] = page_number\n",
    "    iterative_df = iterative_df.reset_index().rename(columns={'index':'index_chunk'})\n",
    "\n",
    "    final_df = pd.concat([final_df, iterative_df], axis=0)\n",
    "\n",
    "final_df['unique_id'] = final_df.page_number.astype(str) + '#' + final_df.index_chunk.astype(str)\n",
    "\n",
    "docs = DataFrameLoader(\n",
    "    final_df, \n",
    "    page_content_column = \"split_page\"\n",
    ").load()\n"
   ]
  },
  {
   "cell_type": "code",
   "execution_count": 62,
   "metadata": {},
   "outputs": [
    {
     "name": "stdout",
     "output_type": "stream",
     "text": [
      "['hr-policy']\n"
     ]
    }
   ],
   "source": [
    "# SETUP STEP 2: Pinecone initiation to create index. You would need to create Pinecone account. Free tier account\n",
    "os.environ['PINECONE_API_KEY'] = 'PINECONE_API_KEY'\n",
    "os.environ['OPENAI_API_KEY'] = \"OPENAI_API_KEY\"\n",
    "\n",
    "pinecone.init(\n",
    "    api_key = os.environ['PINECONE_API_KEY'],\n",
    "    environment = 'gcp-starter'\n",
    "    \n",
    ")\n",
    "\n",
    "print(pinecone.list_indexes())\n",
    "\n",
    "index_name = 'hr-policy'\n",
    "\n",
    "if index_name not in pinecone.list_indexes():\n",
    "    pinecone.create_index(\n",
    "        name = index_name,\n",
    "        metric = 'cosine',\n",
    "        dimension = 1536\n",
    "    )\n",
    "\n",
    "# SETUP STEP 3: Document embeddings\n",
    "data_embeddings = BedrockEmbeddings(\n",
    "        credentials_profile_name = 'default',\n",
    "        model_id = 'amazon.titan-embed-text-v1'\n",
    "    )\n",
    "\n",
    "openai_embeddings = OpenAIEmbeddings(api_key= os.environ['OPENAI_API_KEY'])\n",
    "\n",
    "index = Index(index_name)\n",
    "\n",
    "#SETUP STEP 4: Upload to Pinecone\n",
    "if index.describe_index_stats()['total_vector_count'] > 0:\n",
    "    docsearch = Pinecone.from_existing_index(\n",
    "                    index_name,\n",
    "                    data_embeddings\n",
    "    )\n",
    "else:\n",
    "    docsearch = Pinecone.from_documents(\n",
    "        data_chunks,\n",
    "        data_embeddings, \n",
    "        index_name = index_name\n",
    "    )\n"
   ]
  },
  {
   "cell_type": "markdown",
   "metadata": {},
   "source": [
    "# Retrieval Steps: \n",
    "1. Initialise LLM, we are using LLAMA2 from Bedrock in this use case. \n",
    "2. Setup Prompt on the Questions and Document Prompt\n",
    "3. LangChain RetrievalwithQASourcesChain helps with the forwarding of the question prompt with the sources and answer with natural language. \n",
    "4. Ask questions"
   ]
  },
  {
   "cell_type": "code",
   "execution_count": 63,
   "metadata": {},
   "outputs": [
    {
     "data": {
      "text/plain": [
       "[Document(page_content='employee must apply the sick leave in the prescribed online platform immediately on return to \\nwork. \\n \\nAny misuse of the sick leave provision will attract disciplinary action and may lead to termination \\nof an employee. \\n \\n4.5 Maternity Leave  \\n \\nEligibility - Total of 26 weeks twice in the service tenure as governed by ‘The Maternity \\nBenefit Act” & Maternity Benefit (amendment) Bill 2017.  \\nApart from the standard Maternity leaves mentioned above, women will be \\nentitled for additional 6 weeks of Maternity leaves. \\nAccumulation -   Not applicable. \\nGuidelines: \\n \\n\\uf0b7 Existing provisions as per Maternity Benefit Act, 1961 & Maternity Benefit (amendment) \\nBill 2017 and ESI Act, 1948 will be continued.  \\n\\uf0b7 All women employees are eligible for a total of 32 weeks of maternity leave for 2 surviving \\nchildren. The woman employee can proceed on maternity leave up to a maximum of 26 \\nweeks but not more than 8 weeks before the expected delivery date. \\n\\uf0b7 Maternity leave of 12 weeks will be available to mothers giving birth to 3rd surviving child. \\n\\uf0b7 Maternity leave of 12 weeks will be available to mothers adopting a child below the age of \\nthree months as well as to the “commissioning mothers. The commissioning mother has \\nbeen defined as biological mother who uses her egg to create an embryo planted in any \\nother woman.  \\n\\uf0b7 In case of illness arising out of pregnancy, leave balance against PL, if any, can be combined \\nwith Maternity leave. \\n\\uf0b7 In case of miscarriage or medical termination of pregnancy for any reason, the number of \\ndays of paid leave will be limited to 45 continuous days from the date of such occurrence.  \\n\\uf0b7 For the purposes of Maternity/miscarriage/medical termination of pregnancy intervening \\nweekends/holidays will be calculated as leave days. \\n\\uf0b7 In case an employee needs to avail Maternity leave / or leave for Medical termination of \\npregnancy/ or leave for miscarriage, the request for such leave needs to be forwarded to \\nimmediate supervisor along with supporting medical documents. \\n\\uf0b7 On approval of the leave, the leave details are to be updated along with necessary \\ndocuments in the leave management system.', metadata={'page': 6.0, 'source': 'https://www.upl-ltd.com/images/people/downloads/Leave-Policy-India.pdf'}),\n",
       " Document(page_content='8. Trainees will not be entitled to avail PL during the training/probation period as the case \\nmaybe.  \\nAn Employee can avail PL upto a maximum of 30 days at a time. (I.e. the period from the date of \\ntaking leave to the end of leave should not exceed 30 days subject to leave balance availability and \\nmangers approval. \\n \\n \\n4.3 Casual Leave  \\n \\nEligibility:   7 casual leaves in a year. \\nAccumulation:  Cannot be accumulated or encashed \\nCasual Leave can be utilized for a maximum of 3 days at a stretch. \\n \\nGuidelines: \\n \\nCasual leave cannot be combined with sick leave or privilege leave.  \\n \\nCasual leave can be used up to a maximum of 3 days, above which it shall be treated as PL or leave \\nwithout pay, as the case may be.  \\n \\nApplication for casual leave should be made at least 24 hours in advance. In cases of emergency \\nwhere an employee is not aware in advance of his/her casual leave requirement, he/she must \\ninform the line manager, on the first day of his absence, either by email or phone message, \\ntelegram or other appropriate means of his inability to attend work. In such cases the employee \\nmust apply the casual leave in the prescribed online platform immediately on return to work.  \\n \\n4.4 Sick Leave: \\n \\nQuantum:   9 days per annum \\nAccumulation:  Effective 1st Jan 2021 sick leave will not be accumulated, and neither  \\n    be encashed for all existing and new employees.    \\n    \\nGuidelines: \\n \\n Nine days of sick leave is available to employees. If the medical condition needs an \\nextended leave beyond nine days, the employee can request for the same to the immediate \\nmanager / functional head. The functional head in consultation with the Head HRBP will evaluate \\nthe request and may either approve or disapprove it. In case of sick leave for more than 3 days, \\nemployees have to submit a medical certificate from a certified medical practitioner. However, \\nyour line manager or HR business partner can ask for a leave certificate from the employee in cases \\nwith less than 3 days of sick leave as well. When an employee takes leave on medical grounds, \\nhe/she must inform the line manager, on the first day of his / her absence, either by email or phone \\nmessage, telegram or other appropriate means of inability to attend work. In such cases the', metadata={'page': 5.0, 'source': 'https://www.upl-ltd.com/images/people/downloads/Leave-Policy-India.pdf'}),\n",
       " Document(page_content='\\uf0b7 If such an employee who has been granted Maternity leave is found working in any other \\nestablishment during ones leave period, she shall forfeit her claim for Maternity leave and \\nwarrant disciplinary action. \\n\\uf0b7 If an employee resigns from employment during Maternity leave without resuming duty, \\nthe benefit shall be extended only up to the last day of employment with the Company. \\n\\uf0b7 Any additional leaves used beyond 225 days & the accumulated PL balance will be treated \\nas Loss of pay. \\n\\uf0b7 During the maternity leave, women employees will be considered as active employees for \\nperformance management process and variable pay outs if any. \\n \\n4.6 Paternity Leave  \\n \\nEligibility - 7 working days (excluding holidays & intervening weekends). \\nAccumulation - Cannot be accumulated or encashed. \\nMale employees whose spouse has given birth to a baby or is under medical supervision due to \\na maternity related emergency or situation can avail paternity leave for 7 working days. Paternity \\nleave can be availed for upto 2 children only. If an employee already has two children at the time \\nof joining UPL, he is not entitled to this leave.  \\n \\n5. General rules governing leave \\n \\n a)  Employees should get all their planned leaves approved in advance and notify it to HR  \\n  Services through MYUPL leave management application. If it is found that an employee has \\n  not sent the leave application, it tantamount to misconduct and may lead to disciplinary \\n  action.  \\nb)  Leave period for all leave type is calendar year, i.e, 1st January to 31st December.  \\n c)  New hires will have their leave entitlements pro-rated from the date of hire till 31st  \\n  December  \\nd)  Any unauthorized leave will result in loss of pay.  \\ne)        Note that UPL is currently in the process of launching a digital leave management tool  \\n  and hence the above process related to applying leaves may undergo a change.   \\nThe same will be communicated along with the launch of the new  digital platform. \\n \\n6. Exception Requests \\nException requests to this policy need to be approved by the Global CHRO.', metadata={'page': 7.0, 'source': 'https://www.upl-ltd.com/images/people/downloads/Leave-Policy-India.pdf'}),\n",
       " Document(page_content='4.2 Privilege Leave: \\n \\nEligibility:   21 working days in a year.  \\nAccumulation:  Maximum 60 days for new hires joining on or after 1st Oct 2020.  \\n \\nEmployees who have joined on or before 30th September 2020, can \\naccumulate the leaves upto 120 Days if aged below 50 years and can \\naccumulate the leaves upto 240 Days if aged above 50 years.  \\n \\nPL will be credited to the employees leave account on 31st December \\nevery year. \\n     \\nIn order to rest and recuperate, all employees will have 21 working days of privilege leave \\nin a calendar year. It is expected that employees take their privilege leave and spend some \\nquality time with family and friends or to develop a hobby or just to rest and relax.  \\n \\nThere is no leave encashment available for unutilized or lapsed leave except when employee \\nseparates due to resignation, termination of employment, superannuation, or demise of an \\nemployee. \\n \\nThe employee has to avail a minimum of four (4) days of Privilege Leave in the year, for \\nwhich L.T.A. is claimed. The employee must be on approved privilege leave of a minimum of \\nfour days or longer. Sundays & Holidays falling within this period of four days shall not be \\nincluded as privileged leave. \\n \\nGuidelines:  \\n1. An employee will be entitled to take PL after the line manager approval. \\n2. An employee can avail PL  not more than thrice  in a year, any deviation to this can be \\napproved by the HRBP Head subject to manager approval. \\n3. For long leave, which is 7 days and more, the employee must inform at least one month in \\nadvance. Where an employee plans PL up to 7 days, he/she will be required to take approval \\nat least 15 days in advance.  \\n4. Extensions will not be granted, except in cases of emergencies. If an employee after \\nproceeding on leave desires an extension thereof, he/she shall make an application in writing \\nto the company for this purpose. \\n5. The Management reserves the right to reject or extend the leave at its discretion and without \\nassigning any reason whatsoever. \\n6. When an employee takes a PL, weekend and other holidays will not be included while \\ncalculating leave. \\n7. In the event of the an employee resigning, retrenchment or termination of services by the \\ncompany, unutilized privileged leave not exceeding 60 / 120 / 240 days as per his / her \\neligibility standing to his/her credit at the time of retirement, resignation, retrenchment or \\ntermination by the company, shall be allowed to be encashed, wherein encashment will be \\non monthly Gross Salary for all employees.', metadata={'page': 4.0, 'source': 'https://www.upl-ltd.com/images/people/downloads/Leave-Policy-India.pdf'})]"
      ]
     },
     "execution_count": 63,
     "metadata": {},
     "output_type": "execute_result"
    }
   ],
   "source": [
    "# Testing on docsearch in Pinecone. This is how it looks like on the result on Pinecone when passed to LLM for further processing. \n",
    "docsearch.as_retriever().get_relevant_documents('how many leave am I entitled to?')"
   ]
  },
  {
   "cell_type": "code",
   "execution_count": 71,
   "metadata": {},
   "outputs": [],
   "source": [
    "def hr_llm():\n",
    "    llm = Bedrock(\n",
    "        credentials_profile_name = 'default',\n",
    "        model_id = 'meta.llama2-13b-chat-v1',\n",
    "        model_kwargs = {\"temperature\": 0.1, 'top_p':0.9, 'max_gen_len': 2000}\n",
    "    )\n",
    "    return llm "
   ]
  },
  {
   "cell_type": "code",
   "execution_count": 80,
   "metadata": {},
   "outputs": [],
   "source": [
    "CONTEXT_PROMPT = \"\"\"\n",
    "{page_content}\n",
    "\n",
    "Document Link and Page: {page} and {source}\n",
    "=========\n",
    "\n",
    "\"\"\"\n",
    "\n",
    "QUESTION_PROMPT = \"\"\"\n",
    "You are an intelligent chatbot with a limited knowledge base. \n",
    "Given the following extracted parts of an HR policy document and a question, create a final answer with the source of document and the page (\"SOURCE\").\n",
    "If you don't know the answer, just say that you don't know. Don't try to make up an answer.\n",
    "ALWAYS return a \"SOURCE\" part in your answer. Source should contain the source link and the page number. \n",
    "\n",
    "QUESTION: {question}\n",
    "=========\n",
    "{summaries}\n",
    "ANSWER:\"\"\""
   ]
  },
  {
   "cell_type": "code",
   "execution_count": 81,
   "metadata": {},
   "outputs": [],
   "source": [
    "context_prompt = PromptTemplate.from_template(CONTEXT_PROMPT)\n",
    "question_prompt = PromptTemplate.from_template(QUESTION_PROMPT)"
   ]
  },
  {
   "cell_type": "code",
   "execution_count": 83,
   "metadata": {},
   "outputs": [],
   "source": [
    "def embedding():\n",
    "    data_embeddings = BedrockEmbeddings(\n",
    "        credentials_profile_name = 'default',\n",
    "        model_id = 'amazon.titan-embed-text-v1'\n",
    "    )\n",
    "    return data_embeddings"
   ]
  },
  {
   "cell_type": "code",
   "execution_count": 84,
   "metadata": {},
   "outputs": [],
   "source": [
    "def pinecone_retriever():\n",
    "    docsearch = Pinecone.from_existing_index(\n",
    "        index_name = 'hr-policy',\n",
    "        embedding = embedding()\n",
    "    )   \n",
    "    return docsearch "
   ]
  },
  {
   "cell_type": "code",
   "execution_count": 85,
   "metadata": {},
   "outputs": [],
   "source": [
    "def hr_rag_response(question):\n",
    "    docsearch = pinecone_retriever()\n",
    "    \n",
    "    qa_with_sources = RetrievalQAWithSourcesChain.from_chain_type(\n",
    "            chain_type = 'stuff',\n",
    "            llm = hr_llm(),\n",
    "            chain_type_kwargs = {\n",
    "                'prompt': question_prompt, \n",
    "                'document_prompt': context_prompt\n",
    "            },\n",
    "            retriever = docsearch.as_retriever()\n",
    "        )\n",
    "    \n",
    "    answer = qa_with_sources(question)['answer'].replace(\"\\n\\n\",\"\")\n",
    "    \n",
    "    return answer"
   ]
  },
  {
   "cell_type": "code",
   "execution_count": 86,
   "metadata": {},
   "outputs": [
    {
     "data": {
      "text/plain": [
       "'According to the leave policy document provided, an employee is entitled to 21 working days of privilege leave in a calendar year. The source of this information is page 4.2 of the document, which can be found at the following link: <https://www.upl-ltd.com/images/people/downloads/Leave-Policy-India.pdf>.Please note that the document states that employees must avail a minimum of four days of privilege leave in the year, for which L.T.A. is claimed. Additionally, the document specifies that employees must inform their line manager in advance for any leave availed.'"
      ]
     },
     "execution_count": 86,
     "metadata": {},
     "output_type": "execute_result"
    }
   ],
   "source": [
    "#testing HR LLM response\n",
    "hr_rag_response(question = 'how many leaves am I entitled to?')"
   ]
  },
  {
   "cell_type": "code",
   "execution_count": null,
   "metadata": {},
   "outputs": [],
   "source": []
  }
 ],
 "metadata": {
  "kernelspec": {
   "display_name": "Python 3",
   "language": "python",
   "name": "python3"
  },
  "language_info": {
   "codemirror_mode": {
    "name": "ipython",
    "version": 3
   },
   "file_extension": ".py",
   "mimetype": "text/x-python",
   "name": "python",
   "nbconvert_exporter": "python",
   "pygments_lexer": "ipython3",
   "version": "3.10.13"
  }
 },
 "nbformat": 4,
 "nbformat_minor": 2
}
